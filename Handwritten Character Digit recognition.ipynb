{
 "cells": [
  {
   "cell_type": "code",
   "execution_count": 1,
   "metadata": {},
   "outputs": [],
   "source": [
    "import pandas as pd\n",
    "import numpy as np\n",
    "import matplotlib.pyplot as plt\n",
    "import seaborn as sns\n",
    "import numpy as np\n",
    "from sklearn.preprocessing import scale\n",
    "from sklearn.model_selection import train_test_split,GridSearchCV\n",
    "from sklearn.svm import SVC\n",
    "from sklearn.metrics import accuracy_score,confusion_matrix,classification_report\n",
    "from warnings import filterwarnings\n",
    "\n",
    "filterwarnings('ignore')\n",
    "\n",
    "train = pd.read_csv('characters-digits-train.csv') #importing file train dataset into train dataframe  "
   ]
  },
  {
   "cell_type": "code",
   "execution_count": 2,
   "metadata": {},
   "outputs": [
    {
     "name": "stdout",
     "output_type": "stream",
     "text": [
      "<class 'pandas.core.frame.DataFrame'>\n",
      "RangeIndex: 112799 entries, 0 to 112798\n",
      "Columns: 785 entries, 45 to 0.533\n",
      "dtypes: int64(785)\n",
      "memory usage: 675.6 MB\n"
     ]
    }
   ],
   "source": [
    "train.info()                                       #getting dataframe information"
   ]
  },
  {
   "cell_type": "code",
   "execution_count": 3,
   "metadata": {},
   "outputs": [
    {
     "data": {
      "text/html": [
       "<div>\n",
       "<style scoped>\n",
       "    .dataframe tbody tr th:only-of-type {\n",
       "        vertical-align: middle;\n",
       "    }\n",
       "\n",
       "    .dataframe tbody tr th {\n",
       "        vertical-align: top;\n",
       "    }\n",
       "\n",
       "    .dataframe thead th {\n",
       "        text-align: right;\n",
       "    }\n",
       "</style>\n",
       "<table border=\"1\" class=\"dataframe\">\n",
       "  <thead>\n",
       "    <tr style=\"text-align: right;\">\n",
       "      <th></th>\n",
       "      <th>45</th>\n",
       "      <th>0</th>\n",
       "      <th>0.1</th>\n",
       "      <th>0.2</th>\n",
       "      <th>0.3</th>\n",
       "      <th>0.4</th>\n",
       "      <th>0.5</th>\n",
       "      <th>0.6</th>\n",
       "      <th>0.7</th>\n",
       "      <th>0.8</th>\n",
       "      <th>...</th>\n",
       "      <th>0.524</th>\n",
       "      <th>0.525</th>\n",
       "      <th>0.526</th>\n",
       "      <th>0.527</th>\n",
       "      <th>0.528</th>\n",
       "      <th>0.529</th>\n",
       "      <th>0.530</th>\n",
       "      <th>0.531</th>\n",
       "      <th>0.532</th>\n",
       "      <th>0.533</th>\n",
       "    </tr>\n",
       "  </thead>\n",
       "  <tbody>\n",
       "    <tr>\n",
       "      <th>0</th>\n",
       "      <td>36</td>\n",
       "      <td>0</td>\n",
       "      <td>0</td>\n",
       "      <td>0</td>\n",
       "      <td>0</td>\n",
       "      <td>0</td>\n",
       "      <td>0</td>\n",
       "      <td>0</td>\n",
       "      <td>0</td>\n",
       "      <td>0</td>\n",
       "      <td>...</td>\n",
       "      <td>0</td>\n",
       "      <td>0</td>\n",
       "      <td>0</td>\n",
       "      <td>0</td>\n",
       "      <td>0</td>\n",
       "      <td>0</td>\n",
       "      <td>0</td>\n",
       "      <td>0</td>\n",
       "      <td>0</td>\n",
       "      <td>0</td>\n",
       "    </tr>\n",
       "    <tr>\n",
       "      <th>1</th>\n",
       "      <td>43</td>\n",
       "      <td>0</td>\n",
       "      <td>0</td>\n",
       "      <td>0</td>\n",
       "      <td>0</td>\n",
       "      <td>0</td>\n",
       "      <td>0</td>\n",
       "      <td>0</td>\n",
       "      <td>0</td>\n",
       "      <td>0</td>\n",
       "      <td>...</td>\n",
       "      <td>0</td>\n",
       "      <td>0</td>\n",
       "      <td>0</td>\n",
       "      <td>0</td>\n",
       "      <td>0</td>\n",
       "      <td>0</td>\n",
       "      <td>0</td>\n",
       "      <td>0</td>\n",
       "      <td>0</td>\n",
       "      <td>0</td>\n",
       "    </tr>\n",
       "    <tr>\n",
       "      <th>2</th>\n",
       "      <td>15</td>\n",
       "      <td>0</td>\n",
       "      <td>0</td>\n",
       "      <td>0</td>\n",
       "      <td>0</td>\n",
       "      <td>0</td>\n",
       "      <td>0</td>\n",
       "      <td>0</td>\n",
       "      <td>0</td>\n",
       "      <td>0</td>\n",
       "      <td>...</td>\n",
       "      <td>0</td>\n",
       "      <td>0</td>\n",
       "      <td>0</td>\n",
       "      <td>0</td>\n",
       "      <td>0</td>\n",
       "      <td>0</td>\n",
       "      <td>0</td>\n",
       "      <td>0</td>\n",
       "      <td>0</td>\n",
       "      <td>0</td>\n",
       "    </tr>\n",
       "    <tr>\n",
       "      <th>3</th>\n",
       "      <td>4</td>\n",
       "      <td>0</td>\n",
       "      <td>0</td>\n",
       "      <td>0</td>\n",
       "      <td>0</td>\n",
       "      <td>0</td>\n",
       "      <td>0</td>\n",
       "      <td>0</td>\n",
       "      <td>0</td>\n",
       "      <td>0</td>\n",
       "      <td>...</td>\n",
       "      <td>0</td>\n",
       "      <td>0</td>\n",
       "      <td>0</td>\n",
       "      <td>0</td>\n",
       "      <td>0</td>\n",
       "      <td>0</td>\n",
       "      <td>0</td>\n",
       "      <td>0</td>\n",
       "      <td>0</td>\n",
       "      <td>0</td>\n",
       "    </tr>\n",
       "    <tr>\n",
       "      <th>4</th>\n",
       "      <td>42</td>\n",
       "      <td>0</td>\n",
       "      <td>0</td>\n",
       "      <td>0</td>\n",
       "      <td>0</td>\n",
       "      <td>0</td>\n",
       "      <td>0</td>\n",
       "      <td>0</td>\n",
       "      <td>0</td>\n",
       "      <td>0</td>\n",
       "      <td>...</td>\n",
       "      <td>0</td>\n",
       "      <td>0</td>\n",
       "      <td>0</td>\n",
       "      <td>0</td>\n",
       "      <td>0</td>\n",
       "      <td>0</td>\n",
       "      <td>0</td>\n",
       "      <td>0</td>\n",
       "      <td>0</td>\n",
       "      <td>0</td>\n",
       "    </tr>\n",
       "  </tbody>\n",
       "</table>\n",
       "<p>5 rows × 785 columns</p>\n",
       "</div>"
      ],
      "text/plain": [
       "   45  0  0.1  0.2  0.3  0.4  0.5  0.6  0.7  0.8  ...  0.524  0.525  0.526  \\\n",
       "0  36  0    0    0    0    0    0    0    0    0  ...      0      0      0   \n",
       "1  43  0    0    0    0    0    0    0    0    0  ...      0      0      0   \n",
       "2  15  0    0    0    0    0    0    0    0    0  ...      0      0      0   \n",
       "3   4  0    0    0    0    0    0    0    0    0  ...      0      0      0   \n",
       "4  42  0    0    0    0    0    0    0    0    0  ...      0      0      0   \n",
       "\n",
       "   0.527  0.528  0.529  0.530  0.531  0.532  0.533  \n",
       "0      0      0      0      0      0      0      0  \n",
       "1      0      0      0      0      0      0      0  \n",
       "2      0      0      0      0      0      0      0  \n",
       "3      0      0      0      0      0      0      0  \n",
       "4      0      0      0      0      0      0      0  \n",
       "\n",
       "[5 rows x 785 columns]"
      ]
     },
     "execution_count": 3,
     "metadata": {},
     "output_type": "execute_result"
    }
   ],
   "source": [
    "train.head()                #printing head (first 5 rows of dataframe) for looking up column header names and rows starting with"
   ]
  },
  {
   "cell_type": "markdown",
   "metadata": {},
   "source": [
    "# Altering data frame in order"
   ]
  },
  {
   "cell_type": "code",
   "execution_count": 4,
   "metadata": {},
   "outputs": [
    {
     "name": "stdout",
     "output_type": "stream",
     "text": [
      "   labels  pixel0  pixel1  pixel2  pixel3  pixel4  pixel5  pixel6  pixel7  \\\n",
      "0    45.0     0.0     0.1     0.2     0.3     0.4     0.5     0.6     0.7   \n",
      "1    36.0     0.0     0.0     0.0     0.0     0.0     0.0     0.0     0.0   \n",
      "2    43.0     0.0     0.0     0.0     0.0     0.0     0.0     0.0     0.0   \n",
      "3    15.0     0.0     0.0     0.0     0.0     0.0     0.0     0.0     0.0   \n",
      "4     4.0     0.0     0.0     0.0     0.0     0.0     0.0     0.0     0.0   \n",
      "\n",
      "   pixel8  ...  pixel774  pixel775  pixel776  pixel777  pixel778  pixel779  \\\n",
      "0     0.8  ...     0.524     0.525     0.526     0.527     0.528     0.529   \n",
      "1     0.0  ...     0.000     0.000     0.000     0.000     0.000     0.000   \n",
      "2     0.0  ...     0.000     0.000     0.000     0.000     0.000     0.000   \n",
      "3     0.0  ...     0.000     0.000     0.000     0.000     0.000     0.000   \n",
      "4     0.0  ...     0.000     0.000     0.000     0.000     0.000     0.000   \n",
      "\n",
      "   pixel780  pixel781  pixel782  pixel783  \n",
      "0      0.53     0.531     0.532     0.533  \n",
      "1      0.00     0.000     0.000     0.000  \n",
      "2      0.00     0.000     0.000     0.000  \n",
      "3      0.00     0.000     0.000     0.000  \n",
      "4      0.00     0.000     0.000     0.000  \n",
      "\n",
      "[5 rows x 785 columns]\n"
     ]
    },
    {
     "data": {
      "text/html": [
       "<div>\n",
       "<style scoped>\n",
       "    .dataframe tbody tr th:only-of-type {\n",
       "        vertical-align: middle;\n",
       "    }\n",
       "\n",
       "    .dataframe tbody tr th {\n",
       "        vertical-align: top;\n",
       "    }\n",
       "\n",
       "    .dataframe thead th {\n",
       "        text-align: right;\n",
       "    }\n",
       "</style>\n",
       "<table border=\"1\" class=\"dataframe\">\n",
       "  <thead>\n",
       "    <tr style=\"text-align: right;\">\n",
       "      <th></th>\n",
       "      <th>labels</th>\n",
       "      <th>pixel0</th>\n",
       "      <th>pixel1</th>\n",
       "      <th>pixel2</th>\n",
       "      <th>pixel3</th>\n",
       "      <th>pixel4</th>\n",
       "      <th>pixel5</th>\n",
       "      <th>pixel6</th>\n",
       "      <th>pixel7</th>\n",
       "      <th>pixel8</th>\n",
       "      <th>...</th>\n",
       "      <th>pixel774</th>\n",
       "      <th>pixel775</th>\n",
       "      <th>pixel776</th>\n",
       "      <th>pixel777</th>\n",
       "      <th>pixel778</th>\n",
       "      <th>pixel779</th>\n",
       "      <th>pixel780</th>\n",
       "      <th>pixel781</th>\n",
       "      <th>pixel782</th>\n",
       "      <th>pixel783</th>\n",
       "    </tr>\n",
       "  </thead>\n",
       "  <tbody>\n",
       "    <tr>\n",
       "      <th>112795</th>\n",
       "      <td>22.0</td>\n",
       "      <td>0.0</td>\n",
       "      <td>0.0</td>\n",
       "      <td>0.0</td>\n",
       "      <td>0.0</td>\n",
       "      <td>0.0</td>\n",
       "      <td>0.0</td>\n",
       "      <td>0.0</td>\n",
       "      <td>0.0</td>\n",
       "      <td>0.0</td>\n",
       "      <td>...</td>\n",
       "      <td>0.0</td>\n",
       "      <td>0.0</td>\n",
       "      <td>0.0</td>\n",
       "      <td>0.0</td>\n",
       "      <td>0.0</td>\n",
       "      <td>0.0</td>\n",
       "      <td>0.0</td>\n",
       "      <td>0.0</td>\n",
       "      <td>0.0</td>\n",
       "      <td>0.0</td>\n",
       "    </tr>\n",
       "    <tr>\n",
       "      <th>112796</th>\n",
       "      <td>17.0</td>\n",
       "      <td>0.0</td>\n",
       "      <td>0.0</td>\n",
       "      <td>0.0</td>\n",
       "      <td>0.0</td>\n",
       "      <td>0.0</td>\n",
       "      <td>0.0</td>\n",
       "      <td>0.0</td>\n",
       "      <td>0.0</td>\n",
       "      <td>0.0</td>\n",
       "      <td>...</td>\n",
       "      <td>0.0</td>\n",
       "      <td>0.0</td>\n",
       "      <td>0.0</td>\n",
       "      <td>0.0</td>\n",
       "      <td>0.0</td>\n",
       "      <td>0.0</td>\n",
       "      <td>0.0</td>\n",
       "      <td>0.0</td>\n",
       "      <td>0.0</td>\n",
       "      <td>0.0</td>\n",
       "    </tr>\n",
       "    <tr>\n",
       "      <th>112797</th>\n",
       "      <td>23.0</td>\n",
       "      <td>0.0</td>\n",
       "      <td>0.0</td>\n",
       "      <td>0.0</td>\n",
       "      <td>0.0</td>\n",
       "      <td>0.0</td>\n",
       "      <td>0.0</td>\n",
       "      <td>0.0</td>\n",
       "      <td>0.0</td>\n",
       "      <td>0.0</td>\n",
       "      <td>...</td>\n",
       "      <td>0.0</td>\n",
       "      <td>0.0</td>\n",
       "      <td>0.0</td>\n",
       "      <td>0.0</td>\n",
       "      <td>0.0</td>\n",
       "      <td>0.0</td>\n",
       "      <td>0.0</td>\n",
       "      <td>0.0</td>\n",
       "      <td>0.0</td>\n",
       "      <td>0.0</td>\n",
       "    </tr>\n",
       "    <tr>\n",
       "      <th>112798</th>\n",
       "      <td>31.0</td>\n",
       "      <td>0.0</td>\n",
       "      <td>0.0</td>\n",
       "      <td>0.0</td>\n",
       "      <td>0.0</td>\n",
       "      <td>0.0</td>\n",
       "      <td>0.0</td>\n",
       "      <td>0.0</td>\n",
       "      <td>0.0</td>\n",
       "      <td>0.0</td>\n",
       "      <td>...</td>\n",
       "      <td>0.0</td>\n",
       "      <td>0.0</td>\n",
       "      <td>0.0</td>\n",
       "      <td>0.0</td>\n",
       "      <td>0.0</td>\n",
       "      <td>0.0</td>\n",
       "      <td>0.0</td>\n",
       "      <td>0.0</td>\n",
       "      <td>0.0</td>\n",
       "      <td>0.0</td>\n",
       "    </tr>\n",
       "    <tr>\n",
       "      <th>112799</th>\n",
       "      <td>8.0</td>\n",
       "      <td>0.0</td>\n",
       "      <td>0.0</td>\n",
       "      <td>0.0</td>\n",
       "      <td>0.0</td>\n",
       "      <td>0.0</td>\n",
       "      <td>0.0</td>\n",
       "      <td>0.0</td>\n",
       "      <td>0.0</td>\n",
       "      <td>0.0</td>\n",
       "      <td>...</td>\n",
       "      <td>0.0</td>\n",
       "      <td>0.0</td>\n",
       "      <td>0.0</td>\n",
       "      <td>0.0</td>\n",
       "      <td>0.0</td>\n",
       "      <td>0.0</td>\n",
       "      <td>0.0</td>\n",
       "      <td>0.0</td>\n",
       "      <td>0.0</td>\n",
       "      <td>0.0</td>\n",
       "    </tr>\n",
       "  </tbody>\n",
       "</table>\n",
       "<p>5 rows × 785 columns</p>\n",
       "</div>"
      ],
      "text/plain": [
       "        labels  pixel0  pixel1  pixel2  pixel3  pixel4  pixel5  pixel6  \\\n",
       "112795    22.0     0.0     0.0     0.0     0.0     0.0     0.0     0.0   \n",
       "112796    17.0     0.0     0.0     0.0     0.0     0.0     0.0     0.0   \n",
       "112797    23.0     0.0     0.0     0.0     0.0     0.0     0.0     0.0   \n",
       "112798    31.0     0.0     0.0     0.0     0.0     0.0     0.0     0.0   \n",
       "112799     8.0     0.0     0.0     0.0     0.0     0.0     0.0     0.0   \n",
       "\n",
       "        pixel7  pixel8  ...  pixel774  pixel775  pixel776  pixel777  pixel778  \\\n",
       "112795     0.0     0.0  ...       0.0       0.0       0.0       0.0       0.0   \n",
       "112796     0.0     0.0  ...       0.0       0.0       0.0       0.0       0.0   \n",
       "112797     0.0     0.0  ...       0.0       0.0       0.0       0.0       0.0   \n",
       "112798     0.0     0.0  ...       0.0       0.0       0.0       0.0       0.0   \n",
       "112799     0.0     0.0  ...       0.0       0.0       0.0       0.0       0.0   \n",
       "\n",
       "        pixel779  pixel780  pixel781  pixel782  pixel783  \n",
       "112795       0.0       0.0       0.0       0.0       0.0  \n",
       "112796       0.0       0.0       0.0       0.0       0.0  \n",
       "112797       0.0       0.0       0.0       0.0       0.0  \n",
       "112798       0.0       0.0       0.0       0.0       0.0  \n",
       "112799       0.0       0.0       0.0       0.0       0.0  \n",
       "\n",
       "[5 rows x 785 columns]"
      ]
     },
     "execution_count": 4,
     "metadata": {},
     "output_type": "execute_result"
    }
   ],
   "source": [
    "train = train.append(pd.Series(), ignore_index=True)     #adding empty column in the last row\n",
    "train = train.shift(1, axis = 0)                         #shifting rows by one\n",
    "train.iloc[0] = train.columns.astype(float)              #copy column header to 0th row\n",
    "#train.drop(112800,inplace=True)\n",
    "new_header=['labels']     \n",
    "new_header.extend(\"pixel\"+str(i) for i in range(784))\n",
    "train.columns=new_header                                 #creating column names\n",
    "print(train.head())\n",
    "train.tail()"
   ]
  },
  {
   "cell_type": "code",
   "execution_count": 5,
   "metadata": {},
   "outputs": [
    {
     "name": "stdout",
     "output_type": "stream",
     "text": [
      "<class 'pandas.core.frame.DataFrame'>\n",
      "RangeIndex: 112800 entries, 0 to 112799\n",
      "Columns: 785 entries, labels to pixel783\n",
      "dtypes: float64(785)\n",
      "memory usage: 675.6 MB\n"
     ]
    }
   ],
   "source": [
    "train.info()                                               #getting dataframe information after altering dataframe"
   ]
  },
  {
   "cell_type": "code",
   "execution_count": 6,
   "metadata": {},
   "outputs": [
    {
     "data": {
      "text/plain": [
       "(784,)"
      ]
     },
     "execution_count": 6,
     "metadata": {},
     "output_type": "execute_result"
    }
   ],
   "source": [
    "four = train.iloc[4, 1:]                                 #copying fourth row data pixels that contains handwritten four digit\n",
    "four.shape"
   ]
  },
  {
   "cell_type": "code",
   "execution_count": 7,
   "metadata": {},
   "outputs": [
    {
     "data": {
      "image/png": "[encoded data removed]",
      "text/plain": [
       "<Figure size 432x288 with 1 Axes>"
      ]
     },
     "metadata": {
      "needs_background": "light"
     },
     "output_type": "display_data"
    }
   ],
   "source": [
    "label = train.iloc[4, 0]                                 #copying fourth row label\n",
    "four = np.array(four, dtype='uint8')\n",
    "four = four.reshape((28, 28))                            # Reshape the array into 28 x 28 array (2-dimensional array)\n",
    "plt.title('Label is {label}'.format(label=label))        # plot\n",
    "plt.imshow(four.T, cmap='gray')                          #use transpose as this image data is in inverse \n",
    "plt.show()    \n"
   ]
  },
  {
   "cell_type": "code",
   "execution_count": 8,
   "metadata": {},
   "outputs": [
    {
     "name": "stdout",
     "output_type": "stream",
     "text": [
      "[[  0   0   0   0   0   8  95 251 244  46   0   0   0  12 220 253 115   6]\n",
      " [  0   0   0   0  10 127 244 244 127   1   0   1  47 195 250 175   8   0]\n",
      " [  0   0   0   0  91 221 253 175  34   0   0  33 163 247 218  79   0   0]\n",
      " [  0   0   0  12 207 253 246  79   3   0   1 127 244 251  95   8   0   0]\n",
      " [  0   0  33 190 253 244 127   1   0   3  79 245 247 163   7   0   0   0]\n",
      " [  0   1  96 234 247 163  33   0   0  36 175 253 208  47   0   0   0   0]\n",
      " [  0  34 243 254 159  22   0   0   4 202 253 187  67   2   0   0   0   0]\n",
      " [  3  84 252 244  47   1   0   1  36 234 251  84   4   0   8  13   0   0]\n",
      " [ 77 220 246 128   1   0   0  46 207 251 175  12  34 114 161  69   0   0]\n",
      " [125 249 222  51   0   0   1 128 246 235 106 116 175 220  58   7   0   0]\n",
      " [125 249 234 101  37  37  64 244 254 249 236 207 126  34   0   0   0   0]\n",
      " [ 77 220 253 234 217 217 222 254 254 232 171  46   8   0   0   0   0   0]\n",
      " [  3  78 215 217 246 254 255 246 164  22   3   0   0   0   0   0   0   0]\n",
      " [  0   7  37  39 134 236 254 175  36   0   0   0   0   0   0   0   0   0]\n",
      " [  0   0   0   0 127 246 234  34   0   0   0   0   0   0   0   0   0   0]\n",
      " [  0   0   0   4 203 253 216   5   0   0   0   0   0   0   0   0   0   0]\n",
      " [  0   0   0   4 217 252 172   2   0   0   0   0   0   0   0   0   0   0]\n",
      " [  0   0   0   4 217 233  82   0   0   0   0   0   0   0   0   0   0   0]]\n"
     ]
    }
   ],
   "source": [
    "print(four[5:-5, 5:-5].T)                               # printing pixels data"
   ]
  },
  {
   "cell_type": "code",
   "execution_count": 9,
   "metadata": {},
   "outputs": [
    {
     "data": {
      "text/plain": [
       "46.0    2400\n",
       "11.0    2400\n",
       "20.0    2400\n",
       "19.0    2400\n",
       "18.0    2400\n",
       "17.0    2400\n",
       "16.0    2400\n",
       "15.0    2400\n",
       "14.0    2400\n",
       "13.0    2400\n",
       "12.0    2400\n",
       "10.0    2400\n",
       "22.0    2400\n",
       "9.0     2400\n",
       "8.0     2400\n",
       "7.0     2400\n",
       "6.0     2400\n",
       "5.0     2400\n",
       "4.0     2400\n",
       "3.0     2400\n",
       "2.0     2400\n",
       "1.0     2400\n",
       "21.0    2400\n",
       "23.0    2400\n",
       "45.0    2400\n",
       "35.0    2400\n",
       "44.0    2400\n",
       "43.0    2400\n",
       "42.0    2400\n",
       "41.0    2400\n",
       "40.0    2400\n",
       "39.0    2400\n",
       "38.0    2400\n",
       "37.0    2400\n",
       "36.0    2400\n",
       "34.0    2400\n",
       "24.0    2400\n",
       "33.0    2400\n",
       "32.0    2400\n",
       "31.0    2400\n",
       "30.0    2400\n",
       "29.0    2400\n",
       "28.0    2400\n",
       "27.0    2400\n",
       "26.0    2400\n",
       "25.0    2400\n",
       "0.0     2400\n",
       "Name: labels, dtype: int64"
      ]
     },
     "execution_count": 9,
     "metadata": {},
     "output_type": "execute_result"
    }
   ],
   "source": [
    "train.labels.astype('category').value_counts()          # getting categories(labels) count and type"
   ]
  },
  {
   "cell_type": "code",
   "execution_count": 10,
   "metadata": {},
   "outputs": [
    {
     "data": {
      "text/plain": [
       "0"
      ]
     },
     "execution_count": 10,
     "metadata": {},
     "output_type": "execute_result"
    }
   ],
   "source": [
    "train.isnull().any().sum()                              #checking for NAN values if any"
   ]
  },
  {
   "cell_type": "code",
   "execution_count": 11,
   "metadata": {},
   "outputs": [
    {
     "data": {
      "text/html": [
       "<div>\n",
       "<style scoped>\n",
       "    .dataframe tbody tr th:only-of-type {\n",
       "        vertical-align: middle;\n",
       "    }\n",
       "\n",
       "    .dataframe tbody tr th {\n",
       "        vertical-align: top;\n",
       "    }\n",
       "\n",
       "    .dataframe thead th {\n",
       "        text-align: right;\n",
       "    }\n",
       "</style>\n",
       "<table border=\"1\" class=\"dataframe\">\n",
       "  <thead>\n",
       "    <tr style=\"text-align: right;\">\n",
       "      <th></th>\n",
       "      <th>labels</th>\n",
       "      <th>pixel0</th>\n",
       "      <th>pixel1</th>\n",
       "      <th>pixel2</th>\n",
       "      <th>pixel3</th>\n",
       "      <th>pixel4</th>\n",
       "      <th>pixel5</th>\n",
       "      <th>pixel6</th>\n",
       "      <th>pixel7</th>\n",
       "      <th>pixel8</th>\n",
       "      <th>...</th>\n",
       "      <th>pixel774</th>\n",
       "      <th>pixel775</th>\n",
       "      <th>pixel776</th>\n",
       "      <th>pixel777</th>\n",
       "      <th>pixel778</th>\n",
       "      <th>pixel779</th>\n",
       "      <th>pixel780</th>\n",
       "      <th>pixel781</th>\n",
       "      <th>pixel782</th>\n",
       "      <th>pixel783</th>\n",
       "    </tr>\n",
       "  </thead>\n",
       "  <tbody>\n",
       "    <tr>\n",
       "      <th>count</th>\n",
       "      <td>112800.00000</td>\n",
       "      <td>112800.0</td>\n",
       "      <td>1.128000e+05</td>\n",
       "      <td>112800.000000</td>\n",
       "      <td>112800.000000</td>\n",
       "      <td>112800.000000</td>\n",
       "      <td>112800.000000</td>\n",
       "      <td>112800.000000</td>\n",
       "      <td>112800.000000</td>\n",
       "      <td>112800.000000</td>\n",
       "      <td>...</td>\n",
       "      <td>112800.000000</td>\n",
       "      <td>112800.000000</td>\n",
       "      <td>112800.000000</td>\n",
       "      <td>112800.000000</td>\n",
       "      <td>112800.000000</td>\n",
       "      <td>112800.000000</td>\n",
       "      <td>112800.000000</td>\n",
       "      <td>112800.000000</td>\n",
       "      <td>112800.000000</td>\n",
       "      <td>112800.000000</td>\n",
       "    </tr>\n",
       "    <tr>\n",
       "      <th>mean</th>\n",
       "      <td>23.00000</td>\n",
       "      <td>0.0</td>\n",
       "      <td>8.865248e-07</td>\n",
       "      <td>0.000002</td>\n",
       "      <td>0.000003</td>\n",
       "      <td>0.001369</td>\n",
       "      <td>0.011565</td>\n",
       "      <td>0.020706</td>\n",
       "      <td>0.017444</td>\n",
       "      <td>0.018482</td>\n",
       "      <td>...</td>\n",
       "      <td>0.000315</td>\n",
       "      <td>0.000005</td>\n",
       "      <td>0.000005</td>\n",
       "      <td>0.002168</td>\n",
       "      <td>0.000288</td>\n",
       "      <td>0.000005</td>\n",
       "      <td>0.000005</td>\n",
       "      <td>0.000005</td>\n",
       "      <td>0.000005</td>\n",
       "      <td>0.000005</td>\n",
       "    </tr>\n",
       "    <tr>\n",
       "      <th>std</th>\n",
       "      <td>13.56472</td>\n",
       "      <td>0.0</td>\n",
       "      <td>2.977457e-04</td>\n",
       "      <td>0.000595</td>\n",
       "      <td>0.000893</td>\n",
       "      <td>0.235049</td>\n",
       "      <td>1.221827</td>\n",
       "      <td>1.658798</td>\n",
       "      <td>1.602480</td>\n",
       "      <td>1.719550</td>\n",
       "      <td>...</td>\n",
       "      <td>0.104223</td>\n",
       "      <td>0.001563</td>\n",
       "      <td>0.001566</td>\n",
       "      <td>0.726501</td>\n",
       "      <td>0.095292</td>\n",
       "      <td>0.001575</td>\n",
       "      <td>0.001578</td>\n",
       "      <td>0.001581</td>\n",
       "      <td>0.001584</td>\n",
       "      <td>0.001587</td>\n",
       "    </tr>\n",
       "    <tr>\n",
       "      <th>min</th>\n",
       "      <td>0.00000</td>\n",
       "      <td>0.0</td>\n",
       "      <td>0.000000e+00</td>\n",
       "      <td>0.000000</td>\n",
       "      <td>0.000000</td>\n",
       "      <td>0.000000</td>\n",
       "      <td>0.000000</td>\n",
       "      <td>0.000000</td>\n",
       "      <td>0.000000</td>\n",
       "      <td>0.000000</td>\n",
       "      <td>...</td>\n",
       "      <td>0.000000</td>\n",
       "      <td>0.000000</td>\n",
       "      <td>0.000000</td>\n",
       "      <td>0.000000</td>\n",
       "      <td>0.000000</td>\n",
       "      <td>0.000000</td>\n",
       "      <td>0.000000</td>\n",
       "      <td>0.000000</td>\n",
       "      <td>0.000000</td>\n",
       "      <td>0.000000</td>\n",
       "    </tr>\n",
       "    <tr>\n",
       "      <th>25%</th>\n",
       "      <td>11.00000</td>\n",
       "      <td>0.0</td>\n",
       "      <td>0.000000e+00</td>\n",
       "      <td>0.000000</td>\n",
       "      <td>0.000000</td>\n",
       "      <td>0.000000</td>\n",
       "      <td>0.000000</td>\n",
       "      <td>0.000000</td>\n",
       "      <td>0.000000</td>\n",
       "      <td>0.000000</td>\n",
       "      <td>...</td>\n",
       "      <td>0.000000</td>\n",
       "      <td>0.000000</td>\n",
       "      <td>0.000000</td>\n",
       "      <td>0.000000</td>\n",
       "      <td>0.000000</td>\n",
       "      <td>0.000000</td>\n",
       "      <td>0.000000</td>\n",
       "      <td>0.000000</td>\n",
       "      <td>0.000000</td>\n",
       "      <td>0.000000</td>\n",
       "    </tr>\n",
       "    <tr>\n",
       "      <th>50%</th>\n",
       "      <td>23.00000</td>\n",
       "      <td>0.0</td>\n",
       "      <td>0.000000e+00</td>\n",
       "      <td>0.000000</td>\n",
       "      <td>0.000000</td>\n",
       "      <td>0.000000</td>\n",
       "      <td>0.000000</td>\n",
       "      <td>0.000000</td>\n",
       "      <td>0.000000</td>\n",
       "      <td>0.000000</td>\n",
       "      <td>...</td>\n",
       "      <td>0.000000</td>\n",
       "      <td>0.000000</td>\n",
       "      <td>0.000000</td>\n",
       "      <td>0.000000</td>\n",
       "      <td>0.000000</td>\n",
       "      <td>0.000000</td>\n",
       "      <td>0.000000</td>\n",
       "      <td>0.000000</td>\n",
       "      <td>0.000000</td>\n",
       "      <td>0.000000</td>\n",
       "    </tr>\n",
       "    <tr>\n",
       "      <th>75%</th>\n",
       "      <td>35.00000</td>\n",
       "      <td>0.0</td>\n",
       "      <td>0.000000e+00</td>\n",
       "      <td>0.000000</td>\n",
       "      <td>0.000000</td>\n",
       "      <td>0.000000</td>\n",
       "      <td>0.000000</td>\n",
       "      <td>0.000000</td>\n",
       "      <td>0.000000</td>\n",
       "      <td>0.000000</td>\n",
       "      <td>...</td>\n",
       "      <td>0.000000</td>\n",
       "      <td>0.000000</td>\n",
       "      <td>0.000000</td>\n",
       "      <td>0.000000</td>\n",
       "      <td>0.000000</td>\n",
       "      <td>0.000000</td>\n",
       "      <td>0.000000</td>\n",
       "      <td>0.000000</td>\n",
       "      <td>0.000000</td>\n",
       "      <td>0.000000</td>\n",
       "    </tr>\n",
       "    <tr>\n",
       "      <th>max</th>\n",
       "      <td>46.00000</td>\n",
       "      <td>0.0</td>\n",
       "      <td>1.000000e-01</td>\n",
       "      <td>0.200000</td>\n",
       "      <td>0.300000</td>\n",
       "      <td>63.000000</td>\n",
       "      <td>192.000000</td>\n",
       "      <td>217.000000</td>\n",
       "      <td>217.000000</td>\n",
       "      <td>217.000000</td>\n",
       "      <td>...</td>\n",
       "      <td>35.000000</td>\n",
       "      <td>0.525000</td>\n",
       "      <td>0.526000</td>\n",
       "      <td>244.000000</td>\n",
       "      <td>32.000000</td>\n",
       "      <td>0.529000</td>\n",
       "      <td>0.530000</td>\n",
       "      <td>0.531000</td>\n",
       "      <td>0.532000</td>\n",
       "      <td>0.533000</td>\n",
       "    </tr>\n",
       "  </tbody>\n",
       "</table>\n",
       "<p>8 rows × 785 columns</p>\n",
       "</div>"
      ],
      "text/plain": [
       "             labels    pixel0        pixel1         pixel2         pixel3  \\\n",
       "count  112800.00000  112800.0  1.128000e+05  112800.000000  112800.000000   \n",
       "mean       23.00000       0.0  8.865248e-07       0.000002       0.000003   \n",
       "std        13.56472       0.0  2.977457e-04       0.000595       0.000893   \n",
       "min         0.00000       0.0  0.000000e+00       0.000000       0.000000   \n",
       "25%        11.00000       0.0  0.000000e+00       0.000000       0.000000   \n",
       "50%        23.00000       0.0  0.000000e+00       0.000000       0.000000   \n",
       "75%        35.00000       0.0  0.000000e+00       0.000000       0.000000   \n",
       "max        46.00000       0.0  1.000000e-01       0.200000       0.300000   \n",
       "\n",
       "              pixel4         pixel5         pixel6         pixel7  \\\n",
       "count  112800.000000  112800.000000  112800.000000  112800.000000   \n",
       "mean        0.001369       0.011565       0.020706       0.017444   \n",
       "std         0.235049       1.221827       1.658798       1.602480   \n",
       "min         0.000000       0.000000       0.000000       0.000000   \n",
       "25%         0.000000       0.000000       0.000000       0.000000   \n",
       "50%         0.000000       0.000000       0.000000       0.000000   \n",
       "75%         0.000000       0.000000       0.000000       0.000000   \n",
       "max        63.000000     192.000000     217.000000     217.000000   \n",
       "\n",
       "              pixel8  ...       pixel774       pixel775       pixel776  \\\n",
       "count  112800.000000  ...  112800.000000  112800.000000  112800.000000   \n",
       "mean        0.018482  ...       0.000315       0.000005       0.000005   \n",
       "std         1.719550  ...       0.104223       0.001563       0.001566   \n",
       "min         0.000000  ...       0.000000       0.000000       0.000000   \n",
       "25%         0.000000  ...       0.000000       0.000000       0.000000   \n",
       "50%         0.000000  ...       0.000000       0.000000       0.000000   \n",
       "75%         0.000000  ...       0.000000       0.000000       0.000000   \n",
       "max       217.000000  ...      35.000000       0.525000       0.526000   \n",
       "\n",
       "            pixel777       pixel778       pixel779       pixel780  \\\n",
       "count  112800.000000  112800.000000  112800.000000  112800.000000   \n",
       "mean        0.002168       0.000288       0.000005       0.000005   \n",
       "std         0.726501       0.095292       0.001575       0.001578   \n",
       "min         0.000000       0.000000       0.000000       0.000000   \n",
       "25%         0.000000       0.000000       0.000000       0.000000   \n",
       "50%         0.000000       0.000000       0.000000       0.000000   \n",
       "75%         0.000000       0.000000       0.000000       0.000000   \n",
       "max       244.000000      32.000000       0.529000       0.530000   \n",
       "\n",
       "            pixel781       pixel782       pixel783  \n",
       "count  112800.000000  112800.000000  112800.000000  \n",
       "mean        0.000005       0.000005       0.000005  \n",
       "std         0.001581       0.001584       0.001587  \n",
       "min         0.000000       0.000000       0.000000  \n",
       "25%         0.000000       0.000000       0.000000  \n",
       "50%         0.000000       0.000000       0.000000  \n",
       "75%         0.000000       0.000000       0.000000  \n",
       "max         0.531000       0.532000       0.533000  \n",
       "\n",
       "[8 rows x 785 columns]"
      ]
     },
     "execution_count": 11,
     "metadata": {},
     "output_type": "execute_result"
    }
   ],
   "source": [
    "train.describe()                                        #getting details of dataframe"
   ]
  },
  {
   "cell_type": "code",
   "execution_count": 12,
   "metadata": {},
   "outputs": [],
   "source": [
    "X = train.drop('labels', axis=1)                        # splitting dataframe data into X and y for training\n",
    "y = train['labels']\n",
    "X = scale(X)"
   ]
  },
  {
   "cell_type": "code",
   "execution_count": 13,
   "metadata": {},
   "outputs": [
    {
     "data": {
      "text/plain": [
       "array([45., 36., 43., 15.,  4., 42., 26., 32., 20.,  1., 46., 13., 24.,\n",
       "       12.,  5., 17.,  3., 40., 14., 44., 19., 29., 25., 35., 28., 23.,\n",
       "       22., 34.,  9., 30., 38., 39., 37., 31., 16.,  7.,  2.,  8., 10.,\n",
       "        6., 27., 33., 11., 18., 41.,  0., 21.])"
      ]
     },
     "execution_count": 13,
     "metadata": {},
     "output_type": "execute_result"
    }
   ],
   "source": [
    "train['labels'].unique()                                #checking no.of unique labels are of similar type for training"
   ]
  },
  {
   "cell_type": "markdown",
   "metadata": {},
   "source": [
    "# Training the model(SVM)"
   ]
  },
  {
   "cell_type": "code",
   "execution_count": 14,
   "metadata": {},
   "outputs": [
    {
     "data": {
      "text/plain": [
       "SVC(C=1000, cache_size=200, class_weight=None, coef0=0.0,\n",
       "  decision_function_shape='ovr', degree=3, gamma=0.001, kernel='rbf',\n",
       "  max_iter=-1, probability=False, random_state=None, shrinking=True,\n",
       "  tol=0.001, verbose=False)"
      ]
     },
     "execution_count": 14,
     "metadata": {},
     "output_type": "execute_result"
    }
   ],
   "source": [
    "#Choosing the best parameters\n",
    "best_C = 1000\n",
    "best_gamma = 0.001\n",
    "\n",
    "final_svc = SVC(C=best_C,kernel='rbf',gamma=best_gamma)\n",
    "\n",
    "final_svc.fit(X, y)"
   ]
  },
  {
   "cell_type": "code",
   "execution_count": 15,
   "metadata": {},
   "outputs": [],
   "source": [
    "test = pd.read_csv('characters-digits-test.csv')        #loading test dataset into test dataframe"
   ]
  },
  {
   "cell_type": "code",
   "execution_count": 16,
   "metadata": {},
   "outputs": [
    {
     "name": "stdout",
     "output_type": "stream",
     "text": [
      "   labels  pixel0  pixel1  pixel2  pixel3  pixel4  pixel5  pixel6  pixel7  \\\n",
      "0    41.0     0.0     0.1     0.2     0.3     0.4     0.5     0.6     0.7   \n",
      "1    39.0     0.0     0.0     0.0     0.0     0.0     0.0     0.0     0.0   \n",
      "2     9.0     0.0     0.0     0.0     0.0     0.0     0.0     0.0     0.0   \n",
      "3    26.0     0.0     0.0     0.0     0.0     0.0     0.0     0.0     0.0   \n",
      "4    44.0     0.0     0.0     0.0     0.0     0.0     0.0     0.0     0.0   \n",
      "\n",
      "   pixel8  ...  pixel774  pixel775  pixel776  pixel777  pixel778  pixel779  \\\n",
      "0     0.8  ...     0.523     0.524     0.525     0.526     0.527     0.528   \n",
      "1     0.0  ...     0.000     0.000     0.000     0.000     0.000     0.000   \n",
      "2     0.0  ...     0.000     0.000     0.000     0.000     0.000     0.000   \n",
      "3     0.0  ...     0.000     0.000     0.000     0.000     0.000     0.000   \n",
      "4     0.0  ...     0.000     0.000     0.000     0.000     0.000     0.000   \n",
      "\n",
      "   pixel780  pixel781  pixel782  pixel783  \n",
      "0     0.529      0.53     0.531     0.532  \n",
      "1     0.000      0.00     0.000     0.000  \n",
      "2     0.000      0.00     0.000     0.000  \n",
      "3     0.000      0.00     0.000     0.000  \n",
      "4     0.000      0.00     0.000     0.000  \n",
      "\n",
      "[5 rows x 785 columns]\n"
     ]
    },
    {
     "data": {
      "text/html": [
       "<div>\n",
       "<style scoped>\n",
       "    .dataframe tbody tr th:only-of-type {\n",
       "        vertical-align: middle;\n",
       "    }\n",
       "\n",
       "    .dataframe tbody tr th {\n",
       "        vertical-align: top;\n",
       "    }\n",
       "\n",
       "    .dataframe thead th {\n",
       "        text-align: right;\n",
       "    }\n",
       "</style>\n",
       "<table border=\"1\" class=\"dataframe\">\n",
       "  <thead>\n",
       "    <tr style=\"text-align: right;\">\n",
       "      <th></th>\n",
       "      <th>labels</th>\n",
       "      <th>pixel0</th>\n",
       "      <th>pixel1</th>\n",
       "      <th>pixel2</th>\n",
       "      <th>pixel3</th>\n",
       "      <th>pixel4</th>\n",
       "      <th>pixel5</th>\n",
       "      <th>pixel6</th>\n",
       "      <th>pixel7</th>\n",
       "      <th>pixel8</th>\n",
       "      <th>...</th>\n",
       "      <th>pixel774</th>\n",
       "      <th>pixel775</th>\n",
       "      <th>pixel776</th>\n",
       "      <th>pixel777</th>\n",
       "      <th>pixel778</th>\n",
       "      <th>pixel779</th>\n",
       "      <th>pixel780</th>\n",
       "      <th>pixel781</th>\n",
       "      <th>pixel782</th>\n",
       "      <th>pixel783</th>\n",
       "    </tr>\n",
       "  </thead>\n",
       "  <tbody>\n",
       "    <tr>\n",
       "      <th>18795</th>\n",
       "      <td>45.0</td>\n",
       "      <td>0.0</td>\n",
       "      <td>0.0</td>\n",
       "      <td>0.0</td>\n",
       "      <td>0.0</td>\n",
       "      <td>0.0</td>\n",
       "      <td>0.0</td>\n",
       "      <td>0.0</td>\n",
       "      <td>0.0</td>\n",
       "      <td>0.0</td>\n",
       "      <td>...</td>\n",
       "      <td>0.0</td>\n",
       "      <td>0.0</td>\n",
       "      <td>0.0</td>\n",
       "      <td>0.0</td>\n",
       "      <td>0.0</td>\n",
       "      <td>0.0</td>\n",
       "      <td>0.0</td>\n",
       "      <td>0.0</td>\n",
       "      <td>0.0</td>\n",
       "      <td>0.0</td>\n",
       "    </tr>\n",
       "    <tr>\n",
       "      <th>18796</th>\n",
       "      <td>15.0</td>\n",
       "      <td>0.0</td>\n",
       "      <td>0.0</td>\n",
       "      <td>0.0</td>\n",
       "      <td>0.0</td>\n",
       "      <td>0.0</td>\n",
       "      <td>0.0</td>\n",
       "      <td>0.0</td>\n",
       "      <td>0.0</td>\n",
       "      <td>0.0</td>\n",
       "      <td>...</td>\n",
       "      <td>0.0</td>\n",
       "      <td>0.0</td>\n",
       "      <td>0.0</td>\n",
       "      <td>0.0</td>\n",
       "      <td>0.0</td>\n",
       "      <td>0.0</td>\n",
       "      <td>0.0</td>\n",
       "      <td>0.0</td>\n",
       "      <td>0.0</td>\n",
       "      <td>0.0</td>\n",
       "    </tr>\n",
       "    <tr>\n",
       "      <th>18797</th>\n",
       "      <td>1.0</td>\n",
       "      <td>0.0</td>\n",
       "      <td>0.0</td>\n",
       "      <td>0.0</td>\n",
       "      <td>0.0</td>\n",
       "      <td>0.0</td>\n",
       "      <td>0.0</td>\n",
       "      <td>0.0</td>\n",
       "      <td>0.0</td>\n",
       "      <td>0.0</td>\n",
       "      <td>...</td>\n",
       "      <td>0.0</td>\n",
       "      <td>0.0</td>\n",
       "      <td>0.0</td>\n",
       "      <td>0.0</td>\n",
       "      <td>0.0</td>\n",
       "      <td>0.0</td>\n",
       "      <td>0.0</td>\n",
       "      <td>0.0</td>\n",
       "      <td>0.0</td>\n",
       "      <td>0.0</td>\n",
       "    </tr>\n",
       "    <tr>\n",
       "      <th>18798</th>\n",
       "      <td>26.0</td>\n",
       "      <td>0.0</td>\n",
       "      <td>0.0</td>\n",
       "      <td>0.0</td>\n",
       "      <td>0.0</td>\n",
       "      <td>0.0</td>\n",
       "      <td>0.0</td>\n",
       "      <td>0.0</td>\n",
       "      <td>0.0</td>\n",
       "      <td>0.0</td>\n",
       "      <td>...</td>\n",
       "      <td>0.0</td>\n",
       "      <td>0.0</td>\n",
       "      <td>0.0</td>\n",
       "      <td>0.0</td>\n",
       "      <td>0.0</td>\n",
       "      <td>0.0</td>\n",
       "      <td>0.0</td>\n",
       "      <td>0.0</td>\n",
       "      <td>0.0</td>\n",
       "      <td>0.0</td>\n",
       "    </tr>\n",
       "    <tr>\n",
       "      <th>18799</th>\n",
       "      <td>33.0</td>\n",
       "      <td>0.0</td>\n",
       "      <td>0.0</td>\n",
       "      <td>0.0</td>\n",
       "      <td>0.0</td>\n",
       "      <td>0.0</td>\n",
       "      <td>0.0</td>\n",
       "      <td>0.0</td>\n",
       "      <td>0.0</td>\n",
       "      <td>0.0</td>\n",
       "      <td>...</td>\n",
       "      <td>0.0</td>\n",
       "      <td>0.0</td>\n",
       "      <td>0.0</td>\n",
       "      <td>0.0</td>\n",
       "      <td>0.0</td>\n",
       "      <td>0.0</td>\n",
       "      <td>0.0</td>\n",
       "      <td>0.0</td>\n",
       "      <td>0.0</td>\n",
       "      <td>0.0</td>\n",
       "    </tr>\n",
       "  </tbody>\n",
       "</table>\n",
       "<p>5 rows × 785 columns</p>\n",
       "</div>"
      ],
      "text/plain": [
       "       labels  pixel0  pixel1  pixel2  pixel3  pixel4  pixel5  pixel6  pixel7  \\\n",
       "18795    45.0     0.0     0.0     0.0     0.0     0.0     0.0     0.0     0.0   \n",
       "18796    15.0     0.0     0.0     0.0     0.0     0.0     0.0     0.0     0.0   \n",
       "18797     1.0     0.0     0.0     0.0     0.0     0.0     0.0     0.0     0.0   \n",
       "18798    26.0     0.0     0.0     0.0     0.0     0.0     0.0     0.0     0.0   \n",
       "18799    33.0     0.0     0.0     0.0     0.0     0.0     0.0     0.0     0.0   \n",
       "\n",
       "       pixel8  ...  pixel774  pixel775  pixel776  pixel777  pixel778  \\\n",
       "18795     0.0  ...       0.0       0.0       0.0       0.0       0.0   \n",
       "18796     0.0  ...       0.0       0.0       0.0       0.0       0.0   \n",
       "18797     0.0  ...       0.0       0.0       0.0       0.0       0.0   \n",
       "18798     0.0  ...       0.0       0.0       0.0       0.0       0.0   \n",
       "18799     0.0  ...       0.0       0.0       0.0       0.0       0.0   \n",
       "\n",
       "       pixel779  pixel780  pixel781  pixel782  pixel783  \n",
       "18795       0.0       0.0       0.0       0.0       0.0  \n",
       "18796       0.0       0.0       0.0       0.0       0.0  \n",
       "18797       0.0       0.0       0.0       0.0       0.0  \n",
       "18798       0.0       0.0       0.0       0.0       0.0  \n",
       "18799       0.0       0.0       0.0       0.0       0.0  \n",
       "\n",
       "[5 rows x 785 columns]"
      ]
     },
     "execution_count": 16,
     "metadata": {},
     "output_type": "execute_result"
    }
   ],
   "source": [
    "test = test.append(pd.Series(), ignore_index=True)      #adding empty column in the last row\n",
    "test = test.shift(1, axis = 0)                          #shifting rows by one\n",
    "test.iloc[0] = test.columns.astype(float)               #copy column header to 0th row\n",
    "#train.drop(112800,inplace=True)\n",
    "new_header=['labels']                      \n",
    "new_header.extend(\"pixel\"+str(i) for i in range(784))\n",
    "test.columns=new_header                                 #creating column names\n",
    "print(test.head())\n",
    "test.tail()"
   ]
  },
  {
   "cell_type": "code",
   "execution_count": 17,
   "metadata": {},
   "outputs": [
    {
     "name": "stdout",
     "output_type": "stream",
     "text": [
      "<class 'pandas.core.frame.DataFrame'>\n",
      "RangeIndex: 18800 entries, 0 to 18799\n",
      "Columns: 785 entries, labels to pixel783\n",
      "dtypes: float64(785)\n",
      "memory usage: 112.6 MB\n"
     ]
    }
   ],
   "source": [
    "test.info()                                             #getting dataframe information after altering dataframe"
   ]
  },
  {
   "cell_type": "code",
   "execution_count": 18,
   "metadata": {},
   "outputs": [],
   "source": [
    "x_test = test.drop('labels', axis=1)                    # splitting dataframe data into x_test and y_test for testing\n",
    "y_test = test['labels']\n",
    "x_test = scale(x_test)"
   ]
  },
  {
   "cell_type": "markdown",
   "metadata": {},
   "source": [
    "# Predicting using SVM"
   ]
  },
  {
   "cell_type": "code",
   "execution_count": 19,
   "metadata": {},
   "outputs": [],
   "source": [
    "predictions = final_svc.predict(x_test)                 #predicting using SVM model"
   ]
  },
  {
   "cell_type": "code",
   "execution_count": 20,
   "metadata": {},
   "outputs": [
    {
     "name": "stdout",
     "output_type": "stream",
     "text": [
      "Confusion matrix:\n",
      " [[255   0   0 ...   0   0   0]\n",
      " [  0 237   1 ...   1   0   1]\n",
      " [  0   0 340 ...   1   0   0]\n",
      " ...\n",
      " [  0   0   0 ... 205   1   2]\n",
      " [  0   1   0 ...   0 368   1]\n",
      " [  0   2   1 ...   1   6 340]]\n"
     ]
    }
   ],
   "source": [
    "print('Confusion matrix:\\n',confusion_matrix(y_test, predictions))           #printing confusion matrix"
   ]
  },
  {
   "cell_type": "code",
   "execution_count": 21,
   "metadata": {},
   "outputs": [
    {
     "name": "stdout",
     "output_type": "stream",
     "text": [
      "Classification report:\n",
      "               precision    recall  f1-score   support\n",
      "\n",
      "         0.0       0.61      0.64      0.62       400\n",
      "         1.0       0.52      0.59      0.56       400\n",
      "         2.0       0.85      0.85      0.85       400\n",
      "         3.0       0.93      0.95      0.94       400\n",
      "         4.0       0.88      0.88      0.88       400\n",
      "         5.0       0.89      0.83      0.86       400\n",
      "         6.0       0.88      0.89      0.89       400\n",
      "         7.0       0.94      0.96      0.95       400\n",
      "         8.0       0.86      0.89      0.88       400\n",
      "         9.0       0.65      0.72      0.68       400\n",
      "        10.0       0.89      0.88      0.89       400\n",
      "        11.0       0.91      0.89      0.90       400\n",
      "        12.0       0.92      0.93      0.92       400\n",
      "        13.0       0.87      0.86      0.86       400\n",
      "        14.0       0.94      0.92      0.93       400\n",
      "        15.0       0.58      0.58      0.58       400\n",
      "        16.0       0.86      0.85      0.86       400\n",
      "        17.0       0.91      0.90      0.91       400\n",
      "        18.0       0.61      0.61      0.61       400\n",
      "        19.0       0.89      0.85      0.87       400\n",
      "        20.0       0.91      0.89      0.90       400\n",
      "        21.0       0.54      0.47      0.50       400\n",
      "        22.0       0.91      0.93      0.92       400\n",
      "        23.0       0.89      0.89      0.89       400\n",
      "        24.0       0.64      0.67      0.65       400\n",
      "        25.0       0.89      0.91      0.90       400\n",
      "        26.0       0.85      0.86      0.86       400\n",
      "        27.0       0.90      0.89      0.89       400\n",
      "        28.0       0.84      0.88      0.86       400\n",
      "        29.0       0.90      0.88      0.89       400\n",
      "        30.0       0.89      0.86      0.88       400\n",
      "        31.0       0.89      0.90      0.90       400\n",
      "        32.0       0.71      0.97      0.82       400\n",
      "        33.0       0.95      0.91      0.93       400\n",
      "        34.0       0.86      0.83      0.85       400\n",
      "        35.0       0.86      0.84      0.85       400\n",
      "        36.0       0.82      0.85      0.83       400\n",
      "        37.0       0.89      0.87      0.88       400\n",
      "        38.0       0.93      0.92      0.92       400\n",
      "        39.0       0.95      0.93      0.94       400\n",
      "        40.0       0.58      0.55      0.57       400\n",
      "        41.0       0.63      0.54      0.58       400\n",
      "        42.0       0.91      0.90      0.90       400\n",
      "        43.0       0.92      0.88      0.90       400\n",
      "        44.0       0.58      0.51      0.54       400\n",
      "        45.0       0.92      0.92      0.92       400\n",
      "        46.0       0.84      0.85      0.85       400\n",
      "\n",
      "   micro avg       0.82      0.82      0.82     18800\n",
      "   macro avg       0.83      0.82      0.82     18800\n",
      "weighted avg       0.83      0.82      0.82     18800\n",
      "\n"
     ]
    }
   ],
   "source": [
    "print('Classification report:\\n',classification_report(y_test, predictions)) #printing classification report"
   ]
  },
  {
   "cell_type": "markdown",
   "metadata": {},
   "source": [
    "# Accuracy"
   ]
  },
  {
   "cell_type": "code",
   "execution_count": 22,
   "metadata": {},
   "outputs": [
    {
     "name": "stdout",
     "output_type": "stream",
     "text": [
      "Accuracy score:\n",
      " 0.8246808510638298\n"
     ]
    }
   ],
   "source": [
    "print('Accuracy score:\\n',accuracy_score(y_test, predictions))               #Prediction's Accuracy"
   ]
  },
  {
   "cell_type": "code",
   "execution_count": 23,
   "metadata": {},
   "outputs": [
    {
     "name": "stdout",
     "output_type": "stream",
     "text": [
      "[32. 39.  9. ...  1. 26. 33.]\n"
     ]
    }
   ],
   "source": [
    "print(predictions)                                                           # printing pridictions"
   ]
  },
  {
   "cell_type": "markdown",
   "metadata": {},
   "source": [
    "# Creating Dataframe for loading Predictions and Tasks output"
   ]
  },
  {
   "cell_type": "code",
   "execution_count": 24,
   "metadata": {},
   "outputs": [],
   "source": [
    "tasks = pd.DataFrame(y_test)                            # actual output\n",
    "tasks.index = test.index                                # its important for comparison\n",
    "tasks['Predictions'] = predictions                      # predicted output\n",
    "tasks.columns = [\"labels\",\"Predictions\"]                # its important for comparison"
   ]
  },
  {
   "cell_type": "code",
   "execution_count": 25,
   "metadata": {},
   "outputs": [
    {
     "name": "stdout",
     "output_type": "stream",
     "text": [
      "   labels  Predictions\n",
      "0    41.0         32.0\n",
      "1    39.0         39.0\n",
      "2     9.0          9.0\n",
      "3    26.0         26.0\n",
      "4    44.0         44.0\n"
     ]
    },
    {
     "data": {
      "text/html": [
       "<div>\n",
       "<style scoped>\n",
       "    .dataframe tbody tr th:only-of-type {\n",
       "        vertical-align: middle;\n",
       "    }\n",
       "\n",
       "    .dataframe tbody tr th {\n",
       "        vertical-align: top;\n",
       "    }\n",
       "\n",
       "    .dataframe thead th {\n",
       "        text-align: right;\n",
       "    }\n",
       "</style>\n",
       "<table border=\"1\" class=\"dataframe\">\n",
       "  <thead>\n",
       "    <tr style=\"text-align: right;\">\n",
       "      <th></th>\n",
       "      <th>labels</th>\n",
       "      <th>Predictions</th>\n",
       "    </tr>\n",
       "  </thead>\n",
       "  <tbody>\n",
       "    <tr>\n",
       "      <th>18795</th>\n",
       "      <td>45.0</td>\n",
       "      <td>45.0</td>\n",
       "    </tr>\n",
       "    <tr>\n",
       "      <th>18796</th>\n",
       "      <td>15.0</td>\n",
       "      <td>15.0</td>\n",
       "    </tr>\n",
       "    <tr>\n",
       "      <th>18797</th>\n",
       "      <td>1.0</td>\n",
       "      <td>1.0</td>\n",
       "    </tr>\n",
       "    <tr>\n",
       "      <th>18798</th>\n",
       "      <td>26.0</td>\n",
       "      <td>26.0</td>\n",
       "    </tr>\n",
       "    <tr>\n",
       "      <th>18799</th>\n",
       "      <td>33.0</td>\n",
       "      <td>33.0</td>\n",
       "    </tr>\n",
       "  </tbody>\n",
       "</table>\n",
       "</div>"
      ],
      "text/plain": [
       "       labels  Predictions\n",
       "18795    45.0         45.0\n",
       "18796    15.0         15.0\n",
       "18797     1.0          1.0\n",
       "18798    26.0         26.0\n",
       "18799    33.0         33.0"
      ]
     },
     "execution_count": 25,
     "metadata": {},
     "output_type": "execute_result"
    }
   ],
   "source": [
    "print(tasks.head())                               \n",
    "tasks.tail()                                            #checking dataframe "
   ]
  },
  {
   "cell_type": "markdown",
   "metadata": {},
   "source": [
    "# Task1: Letter/Digit Classifier"
   ]
  },
  {
   "cell_type": "code",
   "execution_count": 26,
   "metadata": {},
   "outputs": [
    {
     "name": "stdout",
     "output_type": "stream",
     "text": [
      "{0: 'digit', 1: 'digit', 2: 'digit', 3: 'digit', 4: 'digit', 5: 'digit', 6: 'digit', 7: 'digit', 8: 'digit', 9: 'digit', 10: 'letter', 11: 'letter', 12: 'letter', 13: 'letter', 14: 'letter', 15: 'letter', 16: 'letter', 17: 'letter', 18: 'letter', 19: 'letter', 20: 'letter', 21: 'letter', 22: 'letter', 23: 'letter', 24: 'letter', 25: 'letter', 26: 'letter', 27: 'letter', 28: 'letter', 29: 'letter', 30: 'letter', 31: 'letter', 32: 'letter', 33: 'letter', 34: 'letter', 35: 'letter', 36: 'letter', 37: 'letter', 38: 'letter', 39: 'letter', 40: 'letter', 41: 'letter', 42: 'letter', 43: 'letter', 44: 'letter', 45: 'letter', 46: 'letter'}\n"
     ]
    }
   ],
   "source": [
    "dict1 = dict(zip(range(47),[\"digit\"]*10+[\"letter\"]*37)) # creating dictionary1-Naming as digit and letter for 47 classes\n",
    "print(dict1)"
   ]
  },
  {
   "cell_type": "code",
   "execution_count": 27,
   "metadata": {},
   "outputs": [],
   "source": [
    "tasks['Task 1: Letter/Digit Classifier']= tasks['Predictions'].map(dict1)#letter/digit classifying-by mapping predictions with \n",
    "                                                                        #dict1 output and getting into dataframe's task1 column"
   ]
  },
  {
   "cell_type": "markdown",
   "metadata": {},
   "source": [
    "# Task 2: Vowel/Consonant and Even/Odd Classifier"
   ]
  },
  {
   "cell_type": "code",
   "execution_count": 28,
   "metadata": {},
   "outputs": [
    {
     "name": "stdout",
     "output_type": "stream",
     "text": [
      "{0: 0, 1: 1, 2: 2, 3: 3, 4: 4, 5: 5, 6: 6, 7: 7, 8: 8, 9: 9, 10: 'A', 11: 'B', 12: 'C', 13: 'D', 14: 'E', 15: 'F', 16: 'G', 17: 'H', 18: 'I', 19: 'J', 20: 'K', 21: 'L', 22: 'M', 23: 'N', 24: 'O', 25: 'P', 26: 'Q', 27: 'R', 28: 'S', 29: 'T', 30: 'U', 31: 'V', 32: 'W', 33: 'X', 34: 'Y', 35: 'Z', 36: 'a', 37: 'b', 38: 'd', 39: 'e', 40: 'f', 41: 'g', 42: 'h', 43: 'n', 44: 'q', 45: 'r', 46: 't'}\n"
     ]
    }
   ],
   "source": [
    "c = (48, 49, 50, 51, 52, 53, 54, 55, 56, 57, 65, 66, 67, 68, 69, 70, 71, 72, 73, 74, 75, 76, 77, 78, 79, 80, 81, 82, 83, 84, 85, 86, 87, 88, 89, 90, 97, 98, 100, 101, 102, 103, 104, 110, 113, 114, 116)\n",
    "dict3= { }                                                          #ASCII list for mapping\n",
    "for i in range(47):                                                 # creating dictionary3-for character assining to 47 classes\n",
    "    if(i<10):\n",
    "        dict3.update({i: i}) #or dict1.update({int(i): int(chr(c[i]))})\n",
    "    else:\n",
    "        dict3.update({i: chr(c[i])})\n",
    "\n",
    "print(dict3)"
   ]
  },
  {
   "cell_type": "code",
   "execution_count": 29,
   "metadata": {},
   "outputs": [
    {
     "name": "stdout",
     "output_type": "stream",
     "text": [
      "{0: 0, 1: 1, 2: 2, 3: 3, 4: 4, 5: 5, 6: 6, 7: 7, 8: 8, 9: 9}\n",
      "{10: 'A', 11: 'B', 12: 'C', 13: 'D', 14: 'E', 15: 'F', 16: 'G', 17: 'H', 18: 'I', 19: 'J', 20: 'K', 21: 'L', 22: 'M', 23: 'N', 24: 'O', 25: 'P', 26: 'Q', 27: 'R', 28: 'S', 29: 'T', 30: 'U', 31: 'V', 32: 'W', 33: 'X', 34: 'Y', 35: 'Z', 36: 'a', 37: 'b', 38: 'd', 39: 'e', 40: 'f', 41: 'g', 42: 'h', 43: 'n', 44: 'q', 45: 'r', 46: 't'}\n"
     ]
    }
   ],
   "source": [
    "dict_a,dict_b ={ },{ }      #dict_a,dict_b splitting dictionary into digits and letters for odd/even and vowel/consonant classifier\n",
    "[dict_a.setdefault(k,v) if k <10 else dict_b.setdefault(k,v) for k,v in dict3.items()]\n",
    "print(dict_a)\n",
    "print(dict_b)"
   ]
  },
  {
   "cell_type": "code",
   "execution_count": 30,
   "metadata": {},
   "outputs": [
    {
     "name": "stdout",
     "output_type": "stream",
     "text": [
      "{0: 'even', 1: 'odd', 2: 'even', 3: 'odd', 4: 'even', 5: 'odd', 6: 'even', 7: 'odd', 8: 'even', 9: 'odd', 10: 'vowel', 11: 'consonant', 12: 'consonant', 13: 'consonant', 14: 'vowel', 15: 'consonant', 16: 'consonant', 17: 'consonant', 18: 'vowel', 19: 'consonant', 20: 'consonant', 21: 'consonant', 22: 'consonant', 23: 'consonant', 24: 'vowel', 25: 'consonant', 26: 'consonant', 27: 'consonant', 28: 'consonant', 29: 'consonant', 30: 'vowel', 31: 'consonant', 32: 'consonant', 33: 'consonant', 34: 'consonant', 35: 'consonant', 36: 'vowel', 37: 'consonant', 38: 'consonant', 39: 'vowel', 40: 'consonant', 41: 'consonant', 42: 'consonant', 43: 'consonant', 44: 'consonant', 45: 'consonant', 46: 'consonant'}\n"
     ]
    }
   ],
   "source": [
    "num= {el:'odd' if dict_a[el] % 2==1 else 'even' for el in dict_a}  #odd or even digits assigning for 10 digits\n",
    "h = ['a','e','i','o','u','A','E','I','O','U']                      #vowel/consonant assigning for 37 alphabets\n",
    "alpha = {key:\"vowel\" if value in h else 'consonant' for key,value in dict_b.items()}\n",
    "num.update(alpha)\n",
    "dict2 = num.copy()                               # creating dictionary3-for Vowel/Consonant and Even/Odd assining to 47 classes\n",
    "print(dict2)                           "
   ]
  },
  {
   "cell_type": "code",
   "execution_count": 31,
   "metadata": {},
   "outputs": [],
   "source": [
    "tasks['Task 2: Vowel/Consonant and Even/Odd Classifier']= tasks.Predictions.map(dict2)#Vowel/Consonant and Even/Odd Classifying-\n",
    "                                             #by mapping predictions with dict2 output and getting into dataframe's task2 column"
   ]
  },
  {
   "cell_type": "markdown",
   "metadata": {},
   "source": [
    "# Task 3: Character Classifier"
   ]
  },
  {
   "cell_type": "code",
   "execution_count": 32,
   "metadata": {},
   "outputs": [],
   "source": [
    "tasks['Task 3: Character Classifier']= tasks.Predictions.map(dict3) #Finally Character Classifying- by mapping predictions with \n",
    "                                                                      #dict3 output and getting into dataframe's task3 column"
   ]
  },
  {
   "cell_type": "markdown",
   "metadata": {},
   "source": [
    "# Loading Dataframe data of Actual,Predicted,Tasks-1,2,3 outputs into csv file"
   ]
  },
  {
   "cell_type": "code",
   "execution_count": 33,
   "metadata": {},
   "outputs": [],
   "source": [
    "tasks.to_csv(\"character digit prediction results.csv\")             "
   ]
  }
 ],
 "metadata": {
  "kernelspec": {
   "display_name": "Python 3",
   "language": "python",
   "name": "python3"
  },
  "language_info": {
   "codemirror_mode": {
    "name": "ipython",
    "version": 3
   },
   "file_extension": ".py",
   "mimetype": "text/x-python",
   "name": "python",
   "nbconvert_exporter": "python",
   "pygments_lexer": "ipython3",
   "version": "3.7.3"
  }
 },
 "nbformat": 4,
 "nbformat_minor": 2
}
